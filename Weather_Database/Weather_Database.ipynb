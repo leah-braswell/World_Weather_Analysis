{
 "cells": [
  {
   "cell_type": "code",
   "execution_count": null,
   "metadata": {},
   "outputs": [],
   "source": [
    "#import pandas, matplotlib, numpy\n",
    "import pandas as pd\n",
    "import matplotlib.pyplot as plt\n",
    "import numpy as np"
   ]
  },
  {
   "cell_type": "code",
   "execution_count": null,
   "metadata": {},
   "outputs": [],
   "source": [
    "#Create arrays of lats and lngs, declare arrays as variables\n",
    "lats = np.random.uniform(low = -90.000, high = 90.000, size = 2000)\n",
    "lngs = np.random.uniform(low = -180.000, high = 180.000, size = 2000)\n",
    "#use zip function to create pairs of lats and lngs\n",
    "lat_lngs = zip(lats, lngs)\n",
    "lat_lngs"
   ]
  },
  {
   "cell_type": "code",
   "execution_count": null,
   "metadata": {},
   "outputs": [],
   "source": [
    "#create list to hold lat_lng pairs\n",
    "coordinates = list(lat_lngs)\n"
   ]
  },
  {
   "cell_type": "code",
   "execution_count": null,
   "metadata": {},
   "outputs": [],
   "source": [
    "#import citipy module\n",
    "from citipy import citipy"
   ]
  },
  {
   "cell_type": "code",
   "execution_count": null,
   "metadata": {},
   "outputs": [],
   "source": [
    "#create a list to hold the city names\n",
    "cities = []\n",
    "#identify the nearest city for each lat_lng pair\n",
    "for coordinate in coordinates:\n",
    "    city = citipy.nearest_city(coordinate[0], coordinate[1]).city_name\n",
    "    \n",
    "    #if the city is unique, add the city name to the cities list\n",
    "    if city not in cities:\n",
    "        cities.append(city)\n",
    "        \n",
    "#print length of city list to ensure sufficient count\n",
    "len(cities)"
   ]
  },
  {
   "cell_type": "code",
   "execution_count": null,
   "metadata": {},
   "outputs": [],
   "source": [
    "#import requests library\n",
    "import requests\n",
    "\n",
    "from config import weather_api_key"
   ]
  },
  {
   "cell_type": "code",
   "execution_count": null,
   "metadata": {},
   "outputs": [],
   "source": [
    "#build basic URL for the OWM with weather_api_key\n",
    "url = \"http://api.openweathermap.org/data/2.5/weather?units=Imperial&APPID=\" + weather_api_key"
   ]
  },
  {
   "cell_type": "code",
   "execution_count": null,
   "metadata": {},
   "outputs": [],
   "source": [
    "#create an empty list to hold the weather data\n",
    "weather_data = []\n",
    "#print the beginning of the logging\n",
    "print('Beginning data retrieval    ')\n",
    "print('----------------------------')\n",
    "\n",
    "#create a record count for cities 1-50\n",
    "record_count = 1\n",
    "#create a set count for groups of cities\n",
    "set_count = 1\n",
    "\n",
    "#loop through cities list \n",
    "for i, city in enumerate(cities):\n",
    "    \n",
    "    #group cities in lists of 50\n",
    "    if (i % 50 ==0 and i>=50):\n",
    "        set_count  +=1\n",
    "        record_count = 1\n",
    "    #create endpoint URL with each city\n",
    "    city_url = url + '&q=' +city.replace(' ', '+')\n",
    "    \n",
    "    #log the UR, record number, set number, and city\n",
    "    print(f'Processing Record {record_count} of Set {set_count} | {city}')\n",
    "    #add 1 to the record count\n",
    "    record_count +=1\n",
    "    \n",
    "    #Run an API request to get info for each city\n",
    "    try:\n",
    "        #Parse the JSON and retrieve data\n",
    "        city_data = requests.get(city_url).json()\n",
    "        #parse out the needed data\n",
    "        city_lat = city_data['coord']['lat']\n",
    "        city_lng = city_data['coord']['lon']\n",
    "        city_max_temp = city_data['main']['temp_max']\n",
    "        city_humidity = city_data['main']['humidity']\n",
    "        city_clouds = city_data['clouds']['all']\n",
    "        city_wind = city_data['wind']['speed']\n",
    "        city_country = city_data['sys']['country']\n",
    "        city_weather =city_data['weather'][0]['description']\n",
    "        #append the information to the weather_data list\n",
    "        weather_data.append({'City': city.title(),\n",
    "                            \"Country\": city_country,\n",
    "                         'Lat': city_lat,\n",
    "                         \"Lng\": city_lng,\n",
    "                         \"Max Temp\": city_max_temp,\n",
    "                         \"Humidity\": city_humidity,\n",
    "                         \"Cloudiness\": city_clouds,\n",
    "                         \"Wind Speed\": city_wind,\n",
    "                         \"Current Description\": city_weather})\n",
    "    except:\n",
    "        print('City not found.  Skipping...')\n",
    "        pass\n",
    "    \n",
    "#indicate that Data Loading is complete.\n",
    "print(\"-----------------------------\")\n",
    "print('Data Retrieval Complete      ')\n",
    "print('-----------------------------')  "
   ]
  },
  {
   "cell_type": "code",
   "execution_count": null,
   "metadata": {},
   "outputs": [],
   "source": [
    "#check number of cities in array\n",
    "len(weather_data)"
   ]
  },
  {
   "cell_type": "code",
   "execution_count": null,
   "metadata": {},
   "outputs": [],
   "source": [
    "#save list to data frame\n",
    "weather_data_df = pd.DataFrame(weather_data)\n",
    "weather_data_df.head(10)"
   ]
  },
  {
   "cell_type": "code",
   "execution_count": null,
   "metadata": {},
   "outputs": [],
   "source": [
    "#create output file for CSV\n",
    "output_data_file = 'WeatherPy_Database.csv'\n",
    "#export to CSV\n",
    "weather_data_df.to_csv(output_data_file, index_label = 'City_ID')"
   ]
  },
  {
   "cell_type": "code",
   "execution_count": null,
   "metadata": {},
   "outputs": [],
   "source": []
  }
 ],
 "metadata": {
  "kernelspec": {
   "display_name": "PythonData",
   "language": "python",
   "name": "pythondata"
  },
  "language_info": {
   "codemirror_mode": {
    "name": "ipython",
    "version": 3
   },
   "file_extension": ".py",
   "mimetype": "text/x-python",
   "name": "python",
   "nbconvert_exporter": "python",
   "pygments_lexer": "ipython3",
   "version": "3.7.7"
  }
 },
 "nbformat": 4,
 "nbformat_minor": 4
}
